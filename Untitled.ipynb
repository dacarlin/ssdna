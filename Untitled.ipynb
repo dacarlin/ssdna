{
 "cells": [
  {
   "cell_type": "code",
   "execution_count": 45,
   "metadata": {
    "collapsed": false
   },
   "outputs": [
    {
     "data": {
      "text/plain": [
       "<transcriptic.config.Connection instance at 0x111e92a28>"
      ]
     },
     "execution_count": 45,
     "metadata": {},
     "output_type": "execute_result"
    }
   ],
   "source": [
    "from autoprotocol import Protocol\n",
    "from transcriptic.config import Connection\n",
    "\n",
    "Connection.from_file( '/Users/alex/.transcriptic' ) "
   ]
  },
  {
   "cell_type": "code",
   "execution_count": 46,
   "metadata": {
    "collapsed": false,
    "scrolled": false
   },
   "outputs": [],
   "source": [
    "p = Protocol()\n",
    "\n",
    "# do transformation into CJ236? \n",
    "# would need to convice Transcriptic to stock the strain \n",
    "\n",
    "# containers\n",
    "transformation_plate = p.ref( 'transformation_plate', None, '6-flat', storage='cold_4' )\n",
    "# will need to pass this in \n",
    "\n",
    "deep0 = p.ref( 'deep0', cont_type='96-deep', discard=True )\n",
    "deep1 = p.ref( 'deep1', cont_type='96-deep', discard=True )\n",
    "deep2 = p.ref( 'deep2', cont_type='96-deep', discard=True )\n",
    "\n",
    "phage = p.ref( 'phage', cont_type='micro-2.0', discard=True ) \n",
    "# will need to convince Transcriptic to provide \n",
    "# or periodically ship a tube on dry ice \n",
    "\n",
    "salt_PEG = p.ref( 'salt_PEG', cont_type='96-deep', discard=True )\n",
    "# how to make this? \n",
    "\n",
    "trash = p.ref( 'trash', cont_type='96-deep', discard=True )\n",
    "# cost: $3.57 for the plate \n",
    "\n",
    "# procedure \n",
    "\n",
    "# grow starter culture \n",
    "p.dispense_full_plate( deep0, 'lb-broth-50ug-ml-kan', '1600:microliter' )\n",
    "p.autopick( transformation_plate.well( 0 ), deep0.well( 0 ), min_abort=10 )\n",
    "p.seal( deep0 )\n",
    "p.incubate( deep0, \"warm_37\", \"4:hour\", shaking=True )\n",
    "\n",
    "# inoc w/ phage \n",
    "p.unseal( deep0 )\n",
    "p.transfer( phage.well( 0 ), deep0.well( 0 ), '2:microliter' ) \n",
    "p.seal( deep0 )\n",
    "p.incubate( deep0, \"warm_37\", \"60:minute\", shaking=True )\n",
    "\n",
    "# distribute/expand the culture \n",
    "p.unseal( deep0 )\n",
    "p.transfer( deep0.well( 0 ), deep0.wells_from( 0, 96 ), '10:microliter' ) \n",
    "p.seal( deep0 )\n",
    "p.incubate( deep0, \"warm_37\", \"16:hour\", shaking=True )\n",
    "\n",
    "#pellet the cells (leave phage in supernatant) and \n",
    "#transfer sup. (contains phage) to fresh plate\n",
    "# precip phage and pellet \n",
    "\n",
    "p.spin( deep0, \"4000:g\", \"10:minute\")\n",
    "p.unseal( deep0 ) \n",
    "p.stamp( salt_PEG, deep1, '150:microliter' )\n",
    "p.stamp( deep0, deep1, '500:microliter', mix_vol='500:microliter', repetitions=10 ) # end of deep0 \n",
    "p.seal( deep1 )\n",
    "p.incubate( deep1, 'cold_4', '90:minute' )\n",
    "p.spin( deep1, \"4000:g\", \"30:minute\" )\n",
    "\n",
    "# toss supernatant and wash pellet \n",
    "p.unseal( deep1 ) \n",
    "p.stamp( deep1, trash, '950:microliter' )\n",
    "p.dispense_full_plate( deep1, 'pbs', '500:microliter' ) \n",
    "p.stamp( deep1, deep1, '450:microliter', mix_vol='450:microliter', repetitions=50 )\n",
    "p.seal( deep1 ) \n",
    "p.spin( deep1, '4000:g', '10:minute' ) \n",
    "\n",
    "# transfer supernatant to new tubes. \n",
    "p.unseal( deep1 ) \n",
    "p.stamp( deep1, deep2, '450:microliter' ) # end of deep1 \n",
    "\n",
    "# precip phage \n",
    "p.stamp( salt_PEG, deep2, '200:microliter', mix_vol='190:microliter', repetitions=10 )\n",
    "p.seal( deep2 ) \n",
    "p.incubate( deep2, 'ambient', '10:minute' )\n",
    "p.spin( deep2, \"4000:g\", \"30:minute\" )\n",
    "p.unseal( deep2 ) \n",
    "p.stamp( deep2, trash, '195:microliter' ) # remove last traces of supernatant \n",
    "\n",
    "# resuspend in PBS \n",
    "p.dispense_full_plate( deep2, 'pbs', '300:microliter' )\n",
    "\n",
    "# now plasmid prep and you're done! "
   ]
  },
  {
   "cell_type": "code",
   "execution_count": 47,
   "metadata": {
    "collapsed": false,
    "scrolled": false
   },
   "outputs": [
    {
     "name": "stdout",
     "output_type": "stream",
     "text": [
      "Workcell Time $385.239\n",
      "Reagents & Consumables $183.913\n"
     ]
    }
   ],
   "source": [
    "from transcriptic import analyze \n",
    "import json \n",
    "\n",
    "analysis = analyze( p.as_dict() ) \n",
    "for cost in analysis['quote']['items']:\n",
    "    print cost['title'], '$' + cost['cost']"
   ]
  },
  {
   "cell_type": "code",
   "execution_count": null,
   "metadata": {
    "collapsed": true
   },
   "outputs": [],
   "source": []
  }
 ],
 "metadata": {
  "kernelspec": {
   "display_name": "Python 2",
   "language": "python",
   "name": "python2"
  },
  "language_info": {
   "codemirror_mode": {
    "name": "ipython",
    "version": 2
   },
   "file_extension": ".py",
   "mimetype": "text/x-python",
   "name": "python",
   "nbconvert_exporter": "python",
   "pygments_lexer": "ipython2",
   "version": "2.7.11"
  }
 },
 "nbformat": 4,
 "nbformat_minor": 0
}
